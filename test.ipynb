{
 "cells": [
  {
   "cell_type": "code",
   "id": "initial_id",
   "metadata": {
    "collapsed": true,
    "ExecuteTime": {
     "end_time": "2024-08-04T08:44:04.067142Z",
     "start_time": "2024-08-04T08:44:04.061672Z"
    }
   },
   "source": "",
   "outputs": [],
   "execution_count": null
  },
  {
   "metadata": {
    "ExecuteTime": {
     "end_time": "2024-08-13T13:47:23.746863Z",
     "start_time": "2024-08-13T13:47:23.534954Z"
    }
   },
   "cell_type": "code",
   "source": [
    "import Program\n",
    "from pyDatalog import pyDatalog\n",
    "\n",
    "program = Program.Program(\"map2.txt\")\n",
    "\n",
    "program.update_percepts()\n",
    "program.map_matrix"
   ],
   "id": "3d3d11243b362982",
   "outputs": [
    {
     "name": "stdout",
     "output_type": "stream",
     "text": [
      "4\n"
     ]
    },
    {
     "data": {
      "text/plain": [
       "[['S', '-', 'B/B', 'P'],\n",
       " ['W', 'G/S/B', 'P', 'B/B'],\n",
       " ['S', '-', 'B/B', '-'],\n",
       " ['-', 'B', 'P', 'B']]"
      ]
     },
     "execution_count": 1,
     "metadata": {},
     "output_type": "execute_result"
    }
   ],
   "execution_count": 1
  },
  {
   "metadata": {
    "ExecuteTime": {
     "end_time": "2024-08-13T13:47:26.015772Z",
     "start_time": "2024-08-13T13:47:25.970768Z"
    }
   },
   "cell_type": "code",
   "source": "pyDatalog.create_terms('wumpus, pit, gas, potion, X, Y, A, B, breeze, stench, whiff, glow, in_danger, ok, blank, not_safe, F, adjacent')",
   "id": "ab1c30f7a30c6c6d",
   "outputs": [],
   "execution_count": 2
  },
  {
   "metadata": {
    "ExecuteTime": {
     "end_time": "2024-08-13T13:47:34.222809Z",
     "start_time": "2024-08-13T13:47:34.211395Z"
    }
   },
   "cell_type": "code",
   "source": [
    "# ok(X, Y) <= blank(A, B) & adjacent(A, B, X, Y) \n",
    "ok(X, Y) <= ~wumpus(X, Y)\n",
    "adjacent(X, Y, A, B) <= (X == A) & (Y == B-1)\n",
    "adjacent(X, Y, A, B) <= (X == A) & (Y == B+1)\n",
    "adjacent(X, Y, A, B) <= (Y == B) & (X == A-1)\n",
    "adjacent(X, Y, A, B) <= (Y == B) & (X == A+1)\n",
    "\n",
    "# ok(X, Y) <= ~stench(X+1, Y) & wumpus(X, Y)\n",
    "# ok(X, Y) <= ~stench(X, Y-1) & wumpus(X, Y)\n",
    "# ok(X, Y) <= ~stench(X, Y+1) & wumpus(X, Y)\n",
    "# ok(X, Y) <= not_stench(A, B) & adjacent(A, B, X, Y) & wumpus(X, Y)\n",
    "# ok(X, Y) <= not_breeze(A, B) & adjacent(A, B, X, Y) & pit(X, Y)\n",
    "# ok(X, Y) <= not_whiff(A, B) & adjacent(A, B, X, Y) & gas(X, Y)\n",
    "# ok(X, Y) <= not_glow(A, B) & adjacent(A, B, X, Y) & potion(X, Y)\n",
    "\n",
    "# ok(X, Y) <= ~stench(X + 1, Y) & wumpus(X, Y)\n",
    "# ok(X, Y) <= ~stench(X, Y - 1) & wumpus(X, Y)\n",
    "# ok(X, Y) <= ~stench(X, Y + 1) & wumpus(X, Y)\n",
    "# ok(X, Y) <= ~stench(X - 1, Y) & wumpus(X, Y)\n",
    "wumpus(X, Y) <= stench(A, B) & adjacent(A, B, X, Y)\n",
    "pit(X, Y) <= breeze(A, B) & adjacent(A, B, X, Y)\n",
    "gas(X, Y) <= whiff(A, B) & adjacent(A, B, X, Y)\n",
    "potion(X, Y) <= glow(A, B) & adjacent(A, B, X, Y)"
   ],
   "id": "e72165bfa4756c2e",
   "outputs": [
    {
     "data": {
      "text/plain": [
       "potion(X,Y) <= glow(A,B)&adjacent(A,B,X,Y)"
      ]
     },
     "execution_count": 4,
     "metadata": {},
     "output_type": "execute_result"
    }
   ],
   "execution_count": 4
  },
  {
   "metadata": {
    "ExecuteTime": {
     "end_time": "2024-08-13T13:49:49.097306Z",
     "start_time": "2024-08-13T13:49:49.093780Z"
    }
   },
   "cell_type": "code",
   "source": "+stench(0,0)",
   "id": "8ce836685a32989b",
   "outputs": [],
   "execution_count": 7
  },
  {
   "metadata": {
    "ExecuteTime": {
     "end_time": "2024-08-07T05:21:56.982933Z",
     "start_time": "2024-08-07T05:21:56.980600Z"
    }
   },
   "cell_type": "code",
   "source": "+not_stench(2,2)",
   "id": "acc1af27a62cf616",
   "outputs": [],
   "execution_count": 5
  },
  {
   "metadata": {
    "ExecuteTime": {
     "end_time": "2024-08-07T05:22:02.885333Z",
     "start_time": "2024-08-07T05:22:02.877845Z"
    }
   },
   "cell_type": "code",
   "source": "ok(1,0)",
   "id": "9aaeebaec8155731",
   "outputs": [
    {
     "data": {
      "text/plain": [
       "[]"
      ]
     },
     "execution_count": 7,
     "metadata": {},
     "output_type": "execute_result"
    }
   ],
   "execution_count": 7
  },
  {
   "metadata": {
    "ExecuteTime": {
     "end_time": "2024-08-07T05:23:23.248031Z",
     "start_time": "2024-08-07T05:23:23.241881Z"
    }
   },
   "cell_type": "code",
   "source": "ok(2,2)",
   "id": "e86836fec908a435",
   "outputs": [
    {
     "data": {
      "text/plain": [
       "[()]"
      ]
     },
     "execution_count": 8,
     "metadata": {},
     "output_type": "execute_result"
    }
   ],
   "execution_count": 8
  },
  {
   "metadata": {
    "ExecuteTime": {
     "end_time": "2024-08-13T13:50:07.844764Z",
     "start_time": "2024-08-13T13:50:07.841252Z"
    }
   },
   "cell_type": "code",
   "source": "wumpus(0,1)",
   "id": "1986d2b73d51a514",
   "outputs": [
    {
     "data": {
      "text/plain": [
       "[()]"
      ]
     },
     "execution_count": 10,
     "metadata": {},
     "output_type": "execute_result"
    }
   ],
   "execution_count": 10
  },
  {
   "metadata": {
    "ExecuteTime": {
     "end_time": "2024-08-05T10:42:05.531119Z",
     "start_time": "2024-08-05T10:42:05.525027Z"
    }
   },
   "cell_type": "code",
   "source": [
    "\n",
    "for i in range(program.n):\n",
    "    for j in range(program.n):\n",
    "        if program.map_matrix[i][j] == 'S':\n",
    "            +stench(i+1, j+1)"
   ],
   "id": "e216477fbf9fc2ed",
   "outputs": [],
   "execution_count": 4
  },
  {
   "metadata": {
    "ExecuteTime": {
     "end_time": "2024-08-05T10:42:06.843204Z",
     "start_time": "2024-08-05T10:42:06.839428Z"
    }
   },
   "cell_type": "code",
   "source": [
    "\n",
    "for i in range(program.n):\n",
    "    for j in range(program.n):\n",
    "        if program.map_matrix[i][j] == 'W':\n",
    "            print(i+1, j+1)"
   ],
   "id": "2132c104d34c5fc0",
   "outputs": [
    {
     "name": "stdout",
     "output_type": "stream",
     "text": [
      "2 2\n"
     ]
    }
   ],
   "execution_count": 5
  },
  {
   "metadata": {
    "ExecuteTime": {
     "end_time": "2024-08-05T10:42:08.818159Z",
     "start_time": "2024-08-05T10:42:08.814623Z"
    }
   },
   "cell_type": "code",
   "source": [
    "print(stench(2,1))\n",
    "print(stench(3,2))"
   ],
   "id": "2e59d0468625e70d",
   "outputs": [
    {
     "name": "stdout",
     "output_type": "stream",
     "text": [
      "[()]\n",
      "[()]\n"
     ]
    }
   ],
   "execution_count": 6
  },
  {
   "metadata": {
    "ExecuteTime": {
     "end_time": "2024-08-05T10:42:22.409772Z",
     "start_time": "2024-08-05T10:42:22.403924Z"
    }
   },
   "cell_type": "code",
   "source": "len(wumpus(1, 1))",
   "id": "d73650515461962d",
   "outputs": [
    {
     "data": {
      "text/plain": [
       "1"
      ]
     },
     "execution_count": 9,
     "metadata": {},
     "output_type": "execute_result"
    }
   ],
   "execution_count": 9
  },
  {
   "metadata": {},
   "cell_type": "code",
   "outputs": [],
   "execution_count": null,
   "source": "",
   "id": "e3b10e6665c13917"
  }
 ],
 "metadata": {
  "kernelspec": {
   "display_name": "Python 3",
   "language": "python",
   "name": "python3"
  },
  "language_info": {
   "codemirror_mode": {
    "name": "ipython",
    "version": 2
   },
   "file_extension": ".py",
   "mimetype": "text/x-python",
   "name": "python",
   "nbconvert_exporter": "python",
   "pygments_lexer": "ipython2",
   "version": "2.7.6"
  }
 },
 "nbformat": 4,
 "nbformat_minor": 5
}
